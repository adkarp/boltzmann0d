{
 "cells": [
  {
   "cell_type": "markdown",
   "id": "17daf87d",
   "metadata": {},
   "source": [
    "# Theory\n",
    "## General Boltzmann Transport Equation\n",
    "The Boltzmann Transport Equation takes place in the six-dimensional space of coordinates given by $\\textbf{r}$ for the spacial coordinates and $\\textbf{v}$ for the velocity vectors. The classical distribution function is given by\n",
    "\\begin{equation*}\n",
    "    f(\\textbf{r},\\textbf{v})d\\textbf{r}d\\textbf{v}=\\text{num of particles in }d\\textbf{r}d\\textbf{v}\n",
    "\\end{equation*}\n",
    "If we consider the effect on a time scale $dt$, according to the Liouville theorem of classicla mechanics, if we have a volume element along a conserved flowline the distribution is given by\n",
    "\\begin{equation*}\n",
    "    f(t+dt,\\textbf{r}+d\\textbf{r}, \\textbf{v}+d\\textbf{v})=f(t,\\textbf{r},\\textbf{v})\n",
    "\\end{equation*}\n",
    "However, in the presence of collisions, we find that\n",
    "\\begin{equation*}\n",
    "    f(t+dt,\\textbf{r}+d\\textbf{r}, \\textbf{v}+d\\textbf{v})-f(t,\\textbf{r},\\textbf{v})=dt\\left(\\frac{\\partial f}{\\partial t}\\right)_\\text{coll}\n",
    "\\end{equation*}\n",
    "therefore\n",
    "\\begin{equation*}\n",
    "    dt\\left(\\frac{\\partial f}{\\partial t}\\right) + d\\textbf{r}\\cdot\\nabla_\\textbf{r}f+d\\textbf{v}\\cdot\\nabla_\\textbf{v}f=dt\\left(\\frac{\\partial f}{\\partial t}\\right)_\\text{coll}\n",
    "\\end{equation*}\n",
    "if we now denote $\\boldsymbol{\\alpha}$ as the acceleration $d\\textbf{v}/dt$, we find\n",
    "\\begin{align*}\n",
    "    \\boxed{\\frac{\\partial f}{\\partial t}+\\textbf{v}\\cdot\\nabla_\\textbf{r}f+\\boldsymbol{\\alpha}\\cdot\\nabla_\\textbf{v}f=\\left(\\frac{\\partial f}{\\partial t}\\right)_\\text{coll}}\n",
    "\\end{align*}\n",
    "\n",
    "## Relaxation Time Approximation\n",
    "We can define the relaxation time as $\\tau_c(\\textbf{r},\\textbf{v})$, which we can now use to simplify the collision term given by\n",
    "\\begin{align*}\n",
    "    \\left(\\frac{\\partial f}{\\partial t}\\right)_\\text{coll}=-\\frac{f-f_0}{\\tau_c}\n",
    "\\end{align*}\n",
    "which then turns the Boltzmann Transport Equation into\n",
    "\\begin{align*}\n",
    "    \\boxed{\\frac{\\partial f}{\\partial t}+\\textbf{v}\\cdot\\nabla_\\textbf{r}f+\\boldsymbol{\\alpha}\\cdot\\nabla_\\textbf{v}f=-\\frac{f-f_0}{\\tau_c}}\n",
    "\\end{align*}"
   ]
  },
  {
   "cell_type": "code",
   "execution_count": 1,
   "id": "b6166897",
   "metadata": {},
   "outputs": [
    {
     "data": {
      "text/html": [
       "/* Custom CSS for Jupyter Notebook to set Times New Roman font */\n",
       "\n",
       "body, .rendered_html, .CodeMirror, .output_area pre, .output_area {\n",
       "    font-family: 'Times New Roman', Times, serif;\n",
       "    font-size: 16px;\n",
       "}\n",
       "\n",
       "/* Optional: Adjust headers separately */\n",
       "h1, h2, h3, h4, h5, h6 {\n",
       "    font-family: 'Times New Roman', Times, serif;\n",
       "    font-weight: bold;\n",
       "}\n",
       "\n",
       "/* Optional: Improve readability of notebook content */\n",
       ".rendered_html p, .rendered_html li {\n",
       "    line-height: 1.6;\n",
       "}\n",
       "\n",
       "/* Optional: Code cells customization */\n",
       ".CodeMirror pre {\n",
       "    font-family: 'Times New Roman', Times, serif;\n",
       "    font-size: 15px;\n",
       "}"
      ],
      "text/plain": [
       "<IPython.core.display.HTML object>"
      ]
     },
     "execution_count": 1,
     "metadata": {},
     "output_type": "execute_result"
    }
   ],
   "source": [
    "from IPython.core.display import HTML\n",
    "css_file = 'style.css'\n",
    "HTML(open(css_file, \"r\").read())"
   ]
  }
 ],
 "metadata": {
  "kernelspec": {
   "display_name": "devtest",
   "language": "python",
   "name": "python3"
  },
  "language_info": {
   "codemirror_mode": {
    "name": "ipython",
    "version": 3
   },
   "file_extension": ".py",
   "mimetype": "text/x-python",
   "name": "python",
   "nbconvert_exporter": "python",
   "pygments_lexer": "ipython3",
   "version": "3.12.9"
  }
 },
 "nbformat": 4,
 "nbformat_minor": 5
}
